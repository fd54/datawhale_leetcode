{
 "cells": [
  {
   "cell_type": "markdown",
   "metadata": {},
   "source": [
    "1.设计一个支持 push，pop，top 操作，并能在常数时间内检索到最小元素的栈。\n",
    "\n",
    "+ push(x) -- 将元素 x 推入栈中。\n",
    "+ pop() -- 删除栈顶的元素。\n",
    "+ top() -- 获取栈顶元素。\n",
    "+ getMin() -- 检索栈中的最小元素。\n",
    "\n"
   ]
  },
  {
   "cell_type": "markdown",
   "metadata": {},
   "source": [
    "使用python内置的列表数据结构即可。构建两个栈，一个用于存储原始数据（stack），另一个用于存储最小值数据（min_stack）\n",
    "每次push或者pop元素后，检查相应的元素与min_stack最后一位的大小，并作出操作。"
   ]
  },
  {
   "cell_type": "code",
   "execution_count": null,
   "metadata": {},
   "outputs": [],
   "source": [
    "class MinStack:\n",
    "\n",
    "    def __init__(self):\n",
    "        \"\"\"\n",
    "        initialize your data structure here.\n",
    "        \"\"\"\n",
    "        self.stack = []\n",
    "        self.min_stack = []\n",
    "\n",
    "    def push(self, x: int) -> None:\n",
    "        self.stack.append(x)\n",
    "        if len(self.min_stack) == 0:\n",
    "            self.min_stack.append(x)\n",
    "        elif self.min_stack[-1] >= x:\n",
    "            self.min_stack.append(x)\n",
    "\n",
    "    def pop(self) -> None:\n",
    "        l = self.stack.pop()\n",
    "        if l == self.min_stack[-1]:\n",
    "            self.min_stack.pop()\n",
    "\n",
    "    def top(self) -> int:\n",
    "        return self.stack[-1]\n",
    "\n",
    "    def getMin(self) -> int:\n",
    "        return self.min_stack[-1]\n",
    "\n",
    "\n",
    "# Your MinStack object will be instantiated and called as such:\n",
    "# obj = MinStack()\n",
    "# obj.push(x)\n",
    "# obj.pop()\n",
    "# param_3 = obj.top()\n",
    "# param_4 = obj.getMin()"
   ]
  },
  {
   "cell_type": "markdown",
   "metadata": {},
   "source": [
    "2.给定一个只包括 '('，')'，'{'，'}'，'['，']' 的字符串，判断字符串是否有效。\n",
    "\n",
    "   有效字符串需满足：\n",
    "\n",
    "+ 左括号必须用相同类型的右括号闭合。\n",
    "+ 左括号必须以正确的顺序闭合。\n",
    "\n",
    "注意空字符串可被认为是有效字符串。"
   ]
  },
  {
   "cell_type": "markdown",
   "metadata": {},
   "source": [
    "逐步删除最内层的括号，即开括号和闭括号相邻的，直至停止，此时根据字符串是否为空判断括号的合法性。"
   ]
  },
  {
   "cell_type": "code",
   "execution_count": null,
   "metadata": {},
   "outputs": [],
   "source": [
    "def isValid(s: str) -> bool:\n",
    "    # import re\n",
    "    while True:\n",
    "        l = len(s)\n",
    "        s = s.replace('{}','')\n",
    "        s = s.replace('[]','')\n",
    "        s = s.replace('()','')\n",
    "        if l == 0:\n",
    "            return True\n",
    "        elif l == len(s):\n",
    "            return False"
   ]
  },
  {
   "cell_type": "markdown",
   "metadata": {},
   "source": [
    "3.在未排序的数组中找到第 k 个最大的元素。\n",
    "\n",
    "请注意，你需要找的是数组排序后的第 k 个最大的元素，而不是第 k 个不同的元素。"
   ]
  },
  {
   "cell_type": "code",
   "execution_count": null,
   "metadata": {},
   "outputs": [],
   "source": [
    "def findKthLargest(nums: list, k: int) -> int:\n",
    "    return sorted(nums,reverse=True)[k-1]"
   ]
  },
  {
   "cell_type": "markdown",
   "metadata": {},
   "source": [
    "4.合并 k 个排序链表，返回合并后的排序链表。请分析和描述算法的复杂度。"
   ]
  },
  {
   "cell_type": "markdown",
   "metadata": {},
   "source": [
    "思路1：合并k个链表，直接排序并返回\n",
    "思路2：选取k个链表头部结点中的最小元，递归"
   ]
  },
  {
   "cell_type": "code",
   "execution_count": null,
   "metadata": {},
   "outputs": [],
   "source": [
    "# Definition for singly-linked list.\n",
    "class ListNode:\n",
    "    def __init__(self, x):\n",
    "        self.val = x\n",
    "        self.next = None\n",
    "\n",
    "class Solution:\n",
    "    def mergeKLists(self, lists: List[ListNode]) -> ListNode:\n",
    "        a=[]\n",
    "        for l in lists:\n",
    "            h=l\n",
    "            while h:\n",
    "                a.append(h.val)\n",
    "                h=h.next\n",
    "        a.sort()\n",
    "        n=len(a)\n",
    "        if n==0:\n",
    "            return\n",
    "        h=ListNode(a[0])\n",
    "        ans=h\n",
    "        for i in range(1,n):\n",
    "            h.next=ListNode(a[i])\n",
    "            h=h.next\n",
    "        return ans"
   ]
  },
  {
   "cell_type": "markdown",
   "metadata": {},
   "source": [
    "5.给定一个数组，它的第 i 个元素是一支给定股票第 i 天的价格。\n",
    "\n",
    "设计一个算法来计算你所能获取的最大利润。你可以尽可能地完成更多的交易（多次买卖一支股票）。\n",
    "\n",
    "注意：你不能同时参与多笔交易（你必须在再次购买前出售掉之前的股票）。\n",
    "\n"
   ]
  },
  {
   "cell_type": "markdown",
   "metadata": {},
   "source": [
    "思路1：相邻两个元素相减，若非负，则加上利润。但是效率较低\n",
    "思路2：省去中间过程\n",
    "思路3：定义numpy，用数组效率更高"
   ]
  },
  {
   "cell_type": "code",
   "execution_count": 1,
   "metadata": {},
   "outputs": [
    {
     "name": "stdout",
     "output_type": "stream",
     "text": [
      "Object `reduce` not found.\n"
     ]
    }
   ],
   "source": [
    "def maxProfit(self, prices: List[int]) -> int:\n",
    "    profit = 0\n",
    "    for i in range(len(prices)-1):\n",
    "        if prices[i+1] >= prices[i]:\n",
    "            profit += prices[i+1] - prices[i]\n",
    "    return profit"
   ]
  },
  {
   "cell_type": "markdown",
   "metadata": {},
   "source": [
    "6.在 O(n log n) 时间复杂度和常数级空间复杂度下，对链表进行排序。"
   ]
  },
  {
   "cell_type": "code",
   "execution_count": null,
   "metadata": {},
   "outputs": [],
   "source": [
    "class Solution:\n",
    "    def sortList(self, head: ListNode) -> ListNode:\n",
    "        if not (head and head.next): return head\n",
    "        pre, slow, fast = None, head, head\n",
    "        while fast and fast.next: pre, slow, fast = slow, slow.next, fast.next.next\n",
    "        pre.next = None\n",
    "        return self.mergeTwoLists(*map(self.sortList, (head, slow)))\n",
    "    \n",
    "    def mergeTwoLists(self, l1: ListNode, l2: ListNode) -> ListNode:\n",
    "        if l1 and l2:\n",
    "            if l1.val > l2.val: l1, l2 = l2, l1\n",
    "            l1.next = self.mergeTwoLists(l1.next, l2)\n",
    "        return l1 or l2\n"
   ]
  }
 ],
 "metadata": {
  "kernelspec": {
   "display_name": "Python 3",
   "language": "python",
   "name": "python3"
  },
  "language_info": {
   "codemirror_mode": {
    "name": "ipython",
    "version": 3
   },
   "file_extension": ".py",
   "mimetype": "text/x-python",
   "name": "python",
   "nbconvert_exporter": "python",
   "pygments_lexer": "ipython3",
   "version": "3.7.0"
  }
 },
 "nbformat": 4,
 "nbformat_minor": 2
}
